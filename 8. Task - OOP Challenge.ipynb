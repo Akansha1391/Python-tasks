{
 "cells": [
  {
   "cell_type": "markdown",
   "metadata": {},
   "source": [
    "# Object Oriented Programming Challenge\n",
    "\n",
    "### 1. \n",
    "For this challenge, create a bank account class that has two attributes:\n",
    "\n",
    "* owner\n",
    "* balance\n",
    "\n",
    "and two methods:\n",
    "\n",
    "* deposit\n",
    "* withdraw\n",
    "\n",
    "As an added requirement, withdrawals may not exceed the available balance.\n",
    "\n",
    "Instantiate your class, make several deposits and withdrawals, and test to make sure the account can't be overdrawn."
   ]
  },
  {
   "cell_type": "code",
   "execution_count": 1,
   "metadata": {},
   "outputs": [],
   "source": [
    "class Account:\n",
    "    pass\n",
    "    "
   ]
  },
  {
   "cell_type": "code",
   "execution_count": 3,
   "metadata": {},
   "outputs": [],
   "source": [
    "# 1. Instantiate the class\n",
    "\n",
    "class Account:\n",
    "    def __init__(self,owner,balance):\n",
    "        self.owner=owner\n",
    "        self.balance=balance\n",
    "        \n",
    "    def deposit(self):\n",
    "        de=int(input(\"Enter amount to deposit: \"))\n",
    "        d=self.balance + de\n",
    "        print(\" Your a/c is credidet by Rs\",de,\"\\nYour available balance is: \",d)\n",
    "        \n",
    "    def withdrawal(self):\n",
    "        wt=int(input(\"Enter amount to withdraw: \"))\n",
    "        if (wt<self.balance):\n",
    "            w=self.balance - wt\n",
    "            print(\"Your a/c is debited by Rs\",wt,\"\\n Your avalable balance is: \", w)\n",
    "            \n",
    "        elif (wt>self.balance):\n",
    "                print(\" You have insufficient balance\")"
   ]
  },
  {
   "cell_type": "code",
   "execution_count": 4,
   "metadata": {},
   "outputs": [
    {
     "name": "stdout",
     "output_type": "stream",
     "text": [
      "Account holder name:  AKANSHA\n",
      "Account balance:  20000\n"
     ]
    }
   ],
   "source": [
    "# 2. Print the object\n",
    "\n",
    "details=Account(\"AKANSHA\",20000)\n",
    "print(\"Account holder name: \",details.owner)\n",
    "print(\"Account balance: \",details.balance)"
   ]
  },
  {
   "cell_type": "code",
   "execution_count": 13,
   "metadata": {},
   "outputs": [
    {
     "name": "stdout",
     "output_type": "stream",
     "text": [
      "AKANSHA\n"
     ]
    }
   ],
   "source": [
    "# 2. Show the account owner attribute\n",
    "\n",
    "print(details.owner)"
   ]
  },
  {
   "cell_type": "code",
   "execution_count": 19,
   "metadata": {},
   "outputs": [
    {
     "name": "stdout",
     "output_type": "stream",
     "text": [
      "20000\n"
     ]
    }
   ],
   "source": [
    "# 4. Show the account balance attribute\n",
    "\n",
    "print(details.balance)"
   ]
  },
  {
   "cell_type": "code",
   "execution_count": 9,
   "metadata": {},
   "outputs": [
    {
     "name": "stdout",
     "output_type": "stream",
     "text": [
      "Enter amount to deposit: 5000\n",
      " Your a/c is credidet by Rs 5000 \n",
      "Your available balance is:  25000\n",
      "Enter amount to withdraw: 3000\n",
      "Your a/c is debited by Rs 3000 \n",
      " Your avalable balance is:  17000\n"
     ]
    }
   ],
   "source": [
    "# 5. Make a series of deposits and withdrawals\n",
    "\n",
    "details.deposit()\n",
    "details.withdrawal()\n"
   ]
  },
  {
   "cell_type": "code",
   "execution_count": 14,
   "metadata": {},
   "outputs": [
    {
     "name": "stdout",
     "output_type": "stream",
     "text": [
      "Enter amount to withdraw: 22000\n",
      " You have insufficient balance\n"
     ]
    }
   ],
   "source": [
    "details.withdrawal()"
   ]
  },
  {
   "cell_type": "code",
   "execution_count": 15,
   "metadata": {},
   "outputs": [
    {
     "name": "stdout",
     "output_type": "stream",
     "text": [
      "20000\n"
     ]
    }
   ],
   "source": [
    "print(details.balance)"
   ]
  },
  {
   "cell_type": "markdown",
   "metadata": {},
   "source": [
    "### 2\n",
    "Create a Time class and initialize it with hours and minutes.\n",
    "1. Make a method addTime which should take two time object and add them. E.g.- (2 hour and 50 min)+(1 hr and 20 min) is (4 hr and 10 min)\n",
    "2. Make a method displayTime which should print the time.\n",
    "3. Make a method DisplayMinute which should display the total minutes in the Time. E.g.- (1 hr 2 min) should display 62 minute. "
   ]
  },
  {
   "cell_type": "code",
   "execution_count": 4,
   "metadata": {},
   "outputs": [],
   "source": [
    "class Time():\n",
    "    def __init__(self,hours,minutes):\n",
    "        self.hours=hours\n",
    "        self.minutes=minutes\n",
    "    \n",
    "    def addTime(self):\n",
    "        T1=int(input('enter the hours: ',))\n",
    "        T2=int(input(\"enter the mnutes: \"))\n",
    "       \n",
    "        print(\"first time is: \",T1, \"hours\",T2,\"minutes\")\n",
    "        \n",
    "        t1=int(input(\"enter the hours: \"))\n",
    "        t2=int(input('enter the minutes: '))\n",
    "        \n",
    "        print(\"second time is: \",t1,\"hours\",t2,\"minutes\")\n",
    "        \n",
    "        H=T1+t1\n",
    "        M=T2+t2\n",
    "        th=round(M/60)\n",
    "        RemMin=M%60\n",
    "        \n",
    "        print(\" total time is: \",H+th,\"hours\",RemMin,\"minutes\")\n",
    "        \n",
    "    def DisplayMinute(self):\n",
    "        ht=int(input('enter the hour: '))\n",
    "        minute=ht*60\n",
    "        mt=int(input(\"enter the minutes: \"))\n",
    "        print(\"total minutes: \",minute+mt)\n",
    "        "
   ]
  },
  {
   "cell_type": "code",
   "execution_count": 5,
   "metadata": {},
   "outputs": [
    {
     "name": "stdout",
     "output_type": "stream",
     "text": [
      "hours:  2\n",
      "minutes:  45\n"
     ]
    }
   ],
   "source": [
    "time=Time(2,45)\n",
    "print(\"hours: \",time.hours)\n",
    "print(\"minutes: \",time.minutes)"
   ]
  },
  {
   "cell_type": "code",
   "execution_count": 6,
   "metadata": {},
   "outputs": [
    {
     "name": "stdout",
     "output_type": "stream",
     "text": [
      "enter the hours: 3\n",
      "enter the mnutes: 30\n",
      "first time is:  3 hours 30 minutes\n",
      "enter the hours: 2\n",
      "enter the minutes: 40\n",
      "second time is:  2 hours 40 minutes\n",
      " total time is:  6 hours 10 minutes\n"
     ]
    }
   ],
   "source": [
    "time.addTime()"
   ]
  },
  {
   "cell_type": "code",
   "execution_count": 51,
   "metadata": {},
   "outputs": [
    {
     "name": "stdout",
     "output_type": "stream",
     "text": [
      "enter the hour: 5\n",
      "enter the minutes: 30\n",
      "total minutes:  330\n"
     ]
    }
   ],
   "source": [
    "time.DisplayMinute()"
   ]
  },
  {
   "cell_type": "markdown",
   "metadata": {},
   "source": [
    "### 3\n",
    "#### Create ATM class which inherites Account class in 1st programm \n",
    "\n",
    "Some of the functions that one can complete at an ATM are below:\n",
    "\n",
    "    1. Input user pin for authentication\n",
    "    2. Print Menu\n",
    "    3. Check account balance\n",
    "    4. Deposit funds\n",
    "    5. Withdraw funds\n",
    "    6. Create random generated transaction id after each transaction(Hint: import random)\n",
    "\n"
   ]
  },
  {
   "cell_type": "code",
   "execution_count": 12,
   "metadata": {},
   "outputs": [],
   "source": [
    "import random\n",
    "class ATM(Account):\n",
    "    def __init__(self,owner,balance):\n",
    "        self.owner=owner\n",
    "        self.balance=balance\n",
    "        \n",
    "        \n",
    "    def authenticate(self):\n",
    "        i=int(input('Set your pin: '))\n",
    "    \n",
    "        print(\" your pin is set \")\n",
    "        \n",
    "    def printMenu(self):\n",
    "        pin=int(input(\"Enter pin: \"))\n",
    "        print(\" View Balance \\n Transfer Funds \\n Deposit cash \\n Withdraw cash\")\n",
    "        \n",
    "    def checkActBal(self):\n",
    "        int(input(\"Enter your pin: \"))\n",
    "        print(\"Available Balance: \",self.balance)\n",
    "        \n",
    "    \n",
    "    def deposit(self):\n",
    "        int(input(\"Enter pin: \"))\n",
    "        db=int(input(\"enter the amount to deposit: \"))\n",
    "        dp=self.balance + db\n",
    "        n=random.randint(0,25)  # randint() creates a no in a range\n",
    "        print(\" Your a/c no is credited by Rs.\",db,\"\\n Available balance is: \",dp)\n",
    "        print(\" Transaction id: \",n)\n",
    "        \n",
    "        \n",
    "    def withdraw(self):\n",
    "        int(input(\"Enter pin: \"))\n",
    "        wb=int(input(\"enter the amount to withdraw: \"))\n",
    "        wt=self.balance - wb\n",
    "        x=random.random()\n",
    "        print(\" Your a/c no is debited by Rs.\",wb,\"\\n Available balance is: \",wt)\n",
    "        print(\" Transaction id is: \",x)\n",
    "        \n",
    "        "
   ]
  },
  {
   "cell_type": "code",
   "execution_count": 13,
   "metadata": {},
   "outputs": [
    {
     "name": "stdout",
     "output_type": "stream",
     "text": [
      "Customer name:  AKANSHA\n",
      "Balance:  20000\n"
     ]
    }
   ],
   "source": [
    "# create object of class \n",
    "\n",
    "customer=ATM('AKANSHA',20000)\n",
    "print(\"Customer name: \",customer.owner)\n",
    "print(\"Balance: \",customer.balance)\n"
   ]
  },
  {
   "cell_type": "code",
   "execution_count": 14,
   "metadata": {},
   "outputs": [
    {
     "name": "stdout",
     "output_type": "stream",
     "text": [
      "Set your pin: 1318\n",
      " your pin is set \n"
     ]
    }
   ],
   "source": [
    "# perform all transactions\n",
    "\n",
    "customer.authenticate()"
   ]
  },
  {
   "cell_type": "code",
   "execution_count": 15,
   "metadata": {},
   "outputs": [
    {
     "name": "stdout",
     "output_type": "stream",
     "text": [
      "Enter pin: 1318\n",
      " View Balance \n",
      " Transfer Funds \n",
      " Deposit cash \n",
      " Withdraw cash\n"
     ]
    }
   ],
   "source": [
    "customer.printMenu()"
   ]
  },
  {
   "cell_type": "code",
   "execution_count": 16,
   "metadata": {},
   "outputs": [
    {
     "name": "stdout",
     "output_type": "stream",
     "text": [
      "Enter your pin: 1318\n",
      "Available Balance:  20000\n"
     ]
    }
   ],
   "source": [
    "customer.checkActBal()"
   ]
  },
  {
   "cell_type": "code",
   "execution_count": 17,
   "metadata": {},
   "outputs": [
    {
     "name": "stdout",
     "output_type": "stream",
     "text": [
      "Enter pin: 1318\n",
      "enter the amount to deposit: 5000\n",
      " Your a/c no is credited by Rs. 5000 \n",
      " Available balance is:  25000\n",
      " Transaction id:  20\n"
     ]
    }
   ],
   "source": [
    "customer.deposit()"
   ]
  },
  {
   "cell_type": "code",
   "execution_count": 18,
   "metadata": {},
   "outputs": [
    {
     "name": "stdout",
     "output_type": "stream",
     "text": [
      "Enter pin: 1318\n",
      "enter the amount to withdraw: 6000\n",
      " Your a/c no is debited by Rs. 6000 \n",
      " Available balance is:  14000\n",
      " Transaction id is:  0.34571477531270456\n"
     ]
    }
   ],
   "source": [
    "customer.withdraw()"
   ]
  },
  {
   "cell_type": "code",
   "execution_count": null,
   "metadata": {},
   "outputs": [],
   "source": []
  }
 ],
 "metadata": {
  "kernelspec": {
   "display_name": "Python 3",
   "language": "python",
   "name": "python3"
  },
  "language_info": {
   "codemirror_mode": {
    "name": "ipython",
    "version": 3
   },
   "file_extension": ".py",
   "mimetype": "text/x-python",
   "name": "python",
   "nbconvert_exporter": "python",
   "pygments_lexer": "ipython3",
   "version": "3.7.4"
  },
  "toc": {
   "base_numbering": 1,
   "nav_menu": {},
   "number_sections": false,
   "sideBar": false,
   "skip_h1_title": false,
   "title_cell": "Table of Contents",
   "title_sidebar": "Contents",
   "toc_cell": false,
   "toc_position": {},
   "toc_section_display": false,
   "toc_window_display": false
  }
 },
 "nbformat": 4,
 "nbformat_minor": 2
}
