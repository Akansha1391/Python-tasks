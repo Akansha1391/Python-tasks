{
 "cells": [
  {
   "cell_type": "markdown",
   "metadata": {},
   "source": [
    "#### Question 1: Accept two int values from user and return their product. If the product is greater than 1000, then return their sum"
   ]
  },
  {
   "cell_type": "markdown",
   "metadata": {},
   "source": [
    "multiplication_or_sum(10,45) -> 450\n",
    "\n",
    "multiplication_or_sum(100,450) - > 550"
   ]
  },
  {
   "cell_type": "code",
   "execution_count": 1,
   "metadata": {},
   "outputs": [],
   "source": [
    "# Write your code here\n"
   ]
  },
  {
   "cell_type": "code",
   "execution_count": 6,
   "metadata": {},
   "outputs": [
    {
     "name": "stdout",
     "output_type": "stream",
     "text": [
      "Enter first number: 10\n",
      "Enter second number: 45\n",
      "450\n"
     ]
    }
   ],
   "source": [
    "a=int(input('Enter first number: '))\n",
    "b=int(input('Enter second number: '))\n",
    "c=a*b\n",
    "sum=a+b\n",
    "if (c>1000):\n",
    "    print(sum)\n",
    "else:\n",
    "    print(c)\n",
    "    "
   ]
  },
  {
   "cell_type": "markdown",
   "metadata": {},
   "source": [
    "#### Question 2: Given a range of numbers. Iterate from 0^th number to the end number and print the sum of the current number and previous number"
   ]
  },
  {
   "cell_type": "markdown",
   "metadata": {},
   "source": [
    "sumNum(5)  ->  0 1 3 5 7"
   ]
  },
  {
   "cell_type": "code",
   "execution_count": 2,
   "metadata": {},
   "outputs": [],
   "source": [
    "# Write your code here\n"
   ]
  },
  {
   "cell_type": "code",
   "execution_count": null,
   "metadata": {},
   "outputs": [],
   "source": [
    "n=range(0,9)\n",
    "for n in range(9):\n",
    "    \n",
    "    "
   ]
  },
  {
   "cell_type": "markdown",
   "metadata": {},
   "source": [
    "#### 3: Accept string from the user and display only those characters which are present at an even index"
   ]
  },
  {
   "cell_type": "code",
   "execution_count": 3,
   "metadata": {},
   "outputs": [],
   "source": [
    "# Write your code here\n"
   ]
  },
  {
   "cell_type": "code",
   "execution_count": 9,
   "metadata": {},
   "outputs": [
    {
     "name": "stdout",
     "output_type": "stream",
     "text": [
      "Enter a string: Dissapointment\n",
      "Dsaonmn\n"
     ]
    }
   ],
   "source": [
    "str=(input(\"Enter a string: \"))\n",
    "modified_string=str[::2]\n",
    "print(modified_string)"
   ]
  },
  {
   "cell_type": "markdown",
   "metadata": {},
   "source": [
    "#### 4: Given a string and an int n, remove characters from string starting from zero upto n and return a new string"
   ]
  },
  {
   "cell_type": "markdown",
   "metadata": {},
   "source": [
    "removeChars(\"pynative\", 4) -> tive"
   ]
  },
  {
   "cell_type": "code",
   "execution_count": 13,
   "metadata": {},
   "outputs": [
    {
     "name": "stdout",
     "output_type": "stream",
     "text": [
      "enter a string: pynative\n",
      "enter the nth index: 4\n",
      "The new string is: \n",
      "pynaive\n"
     ]
    }
   ],
   "source": [
    "# Write your code here\n",
    "\n",
    "def removechar(str1,n):\n",
    "    a=str1[:n]\n",
    "    b=str1[n+1:]\n",
    "    return a+b\n",
    "str1=input('enter a string: ')\n",
    "n=int(input('enter the nth index: '))\n",
    "print('The new string is: ')\n",
    "print(removechar(str1,n))"
   ]
  },
  {
   "cell_type": "markdown",
   "metadata": {},
   "source": [
    "#### 5: Given a list of ints, return True if first and last number of a list is same"
   ]
  },
  {
   "cell_type": "markdown",
   "metadata": {},
   "source": [
    "isFirst_And_Last_Same([10, 20, 30, 40, 10])->True\n",
    "\n",
    "isFirst_And_Last_Same([10, 20, 30, 90])->False\n"
   ]
  },
  {
   "cell_type": "code",
   "execution_count": 18,
   "metadata": {},
   "outputs": [
    {
     "name": "stdout",
     "output_type": "stream",
     "text": [
      "True\n"
     ]
    }
   ],
   "source": [
    "# Write your code here\n",
    "\n",
    "L=[10,13,20,78,10]\n",
    "\n",
    "if (L[::len(L)-1]):\n",
    "    print(True)\n",
    "else:\n",
    "    print(False)\n"
   ]
  },
  {
   "cell_type": "markdown",
   "metadata": {},
   "source": [
    "#### 6: Given a list of numbers, Iterate it and print only those numbers which are divisible of 5"
   ]
  },
  {
   "cell_type": "markdown",
   "metadata": {},
   "source": [
    "findDivisible([10, 20, 33, 46, 55]) ->10 20 55"
   ]
  },
  {
   "cell_type": "code",
   "execution_count": 19,
   "metadata": {},
   "outputs": [
    {
     "name": "stdout",
     "output_type": "stream",
     "text": [
      "List is:  [10, 20, 33, 44, 56, 55, 60]\n",
      "10\n",
      "20\n",
      "55\n",
      "60\n"
     ]
    }
   ],
   "source": [
    "# Write your code here\n",
    "L=[10,20,33,44,56,55,60]\n",
    "n=5\n",
    "print('List is: ',L)\n",
    "for num in L:\n",
    "    if(num%5==0):\n",
    "        print(num)\n",
    "    "
   ]
  },
  {
   "cell_type": "markdown",
   "metadata": {},
   "source": [
    "#### 7: Return the number of times that the string “Emma” appears anywhere in the given string"
   ]
  },
  {
   "cell_type": "markdown",
   "metadata": {},
   "source": [
    "Input : \"Emma is good developer. Emma is aslo a writer\"\n",
    "\n",
    "Output : 2"
   ]
  },
  {
   "cell_type": "code",
   "execution_count": 20,
   "metadata": {},
   "outputs": [
    {
     "name": "stdout",
     "output_type": "stream",
     "text": [
      "2\n"
     ]
    }
   ],
   "source": [
    "# Write your code here\n",
    "\n",
    "str=(\"Emma is a good developer.Emma is also a writer\")\n",
    "print(str.count('Emma'))"
   ]
  },
  {
   "cell_type": "markdown",
   "metadata": {},
   "source": [
    "#### 8: Print the following pattern\n",
    "    1 \n",
    "    2 2 \n",
    "    3 3 3 \n",
    "    4 4 4 4 \n",
    "    5 5 5 5 5"
   ]
  },
  {
   "cell_type": "code",
   "execution_count": 22,
   "metadata": {},
   "outputs": [
    {
     "name": "stdout",
     "output_type": "stream",
     "text": [
      "Enter the number of rows: 6\n",
      " \n",
      "1  \n",
      "2 2  \n",
      "3 3 3  \n",
      "4 4 4 4  \n",
      "5 5 5 5 5  \n"
     ]
    }
   ],
   "source": [
    "# Write your code here\n",
    "\n",
    "\n",
    "rows=int(input('Enter the number of rows: '))\n",
    "for num in range(rows):\n",
    "    for i in range(num):\n",
    "        print(num,end=\" \")\n",
    "    print(\" \")\n"
   ]
  },
  {
   "cell_type": "markdown",
   "metadata": {},
   "source": [
    " #### 9: Reverse a given number and return true if it is the same as the original number"
   ]
  },
  {
   "cell_type": "markdown",
   "metadata": {},
   "source": [
    "reverseCheck(121) -> True\n",
    "\n",
    "reverseCheck(254) -> False"
   ]
  },
  {
   "cell_type": "code",
   "execution_count": 25,
   "metadata": {
    "scrolled": true
   },
   "outputs": [
    {
     "name": "stdout",
     "output_type": "stream",
     "text": [
      "Enter a number: 121\n",
      "True\n"
     ]
    }
   ],
   "source": [
    "# Write your code here\n",
    "\n",
    "L=[]\n",
    "n=int(input(\"Enter a number: \"))\n",
    "L.append(n)\n",
    "if (L[::-1]==L):\n",
    "    print(True)\n",
    "else:\n",
    "    print(False)"
   ]
  },
  {
   "cell_type": "markdown",
   "metadata": {},
   "source": [
    "# 10: Given a two list of ints create a third list such that should contain only odd numbers from the first list and even numbers from the second list"
   ]
  },
  {
   "cell_type": "markdown",
   "metadata": {},
   "source": [
    "Input:\n",
    "\n",
    "listOne = [10, 20, 23, 11, 17]\n",
    "\n",
    "listTwo = [13, 43, 24, 36, 12]\n",
    "\n",
    "Output:\n",
    "\n",
    "[23, 11, 17, 24, 36, 12]"
   ]
  },
  {
   "cell_type": "code",
   "execution_count": 9,
   "metadata": {},
   "outputs": [],
   "source": [
    "# Write your code here\n"
   ]
  },
  {
   "cell_type": "code",
   "execution_count": 27,
   "metadata": {},
   "outputs": [
    {
     "data": {
      "text/plain": [
       "[23, 11, 17, 24, 36, 12]"
      ]
     },
     "execution_count": 27,
     "metadata": {},
     "output_type": "execute_result"
    }
   ],
   "source": [
    "L1=[10,20,23,11,17]\n",
    "L2=[13,43,24,36,12]\n",
    "L3=[]\n",
    "for num in L1:\n",
    "    if (num%2!=0):\n",
    "        L3.append(num)\n",
    "for num in L2:\n",
    "    if (num%2==0):\n",
    "        L3.append(num)\n",
    "L3\n",
    "        "
   ]
  },
  {
   "cell_type": "code",
   "execution_count": null,
   "metadata": {},
   "outputs": [],
   "source": []
  }
 ],
 "metadata": {
  "kernelspec": {
   "display_name": "Python 3",
   "language": "python",
   "name": "python3"
  },
  "language_info": {
   "codemirror_mode": {
    "name": "ipython",
    "version": 3
   },
   "file_extension": ".py",
   "mimetype": "text/x-python",
   "name": "python",
   "nbconvert_exporter": "python",
   "pygments_lexer": "ipython3",
   "version": "3.7.4"
  },
  "toc": {
   "base_numbering": 1,
   "nav_menu": {},
   "number_sections": false,
   "sideBar": false,
   "skip_h1_title": false,
   "title_cell": "Table of Contents",
   "title_sidebar": "Contents",
   "toc_cell": false,
   "toc_position": {},
   "toc_section_display": false,
   "toc_window_display": false
  }
 },
 "nbformat": 4,
 "nbformat_minor": 2
}
