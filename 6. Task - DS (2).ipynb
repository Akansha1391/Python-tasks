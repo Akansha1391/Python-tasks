{
 "cells": [
  {
   "cell_type": "markdown",
   "metadata": {},
   "source": [
    "#### 1: Given a two list. Create a third list by picking an odd-index element from the first list and even index elements from second."
   ]
  },
  {
   "cell_type": "markdown",
   "metadata": {},
   "source": [
    "    Input:\n",
    "    listOne = [3, 6, 9, 12, 15, 18, 21]\n",
    "    listTwo = [4, 8, 12, 16, 20, 24, 28]\n",
    "    \n",
    "    Output:\n",
    "    [6, 12, 18, 4, 12, 20, 28]"
   ]
  },
  {
   "cell_type": "code",
   "execution_count": 1,
   "metadata": {},
   "outputs": [],
   "source": [
    "# Write your code here\n"
   ]
  },
  {
   "cell_type": "markdown",
   "metadata": {},
   "source": [
    "#### 2: Given an input list removes the element at index 2 and add it to the 4th position and also, at the end of the list"
   ]
  },
  {
   "cell_type": "markdown",
   "metadata": {},
   "source": [
    "    Input: List = [54, 44, 27, 79, 91, 41]\n",
    "    Output: [54, 44, 79, 27, 91, 41, 27]"
   ]
  },
  {
   "cell_type": "code",
   "execution_count": 2,
   "metadata": {},
   "outputs": [],
   "source": [
    "# Write your code here\n"
   ]
  },
  {
   "cell_type": "markdown",
   "metadata": {},
   "source": [
    "#### 3: Given a list slice it into a 3 equal chunks and reverse each list"
   ]
  },
  {
   "cell_type": "markdown",
   "metadata": {},
   "source": [
    "    Input:\n",
    "    sampleList = [1, 2, 3, 4, 5, 6, 7, 8, 9]\n",
    "    \n",
    "    Output:\n",
    "    l1 = [3, 2, 1]\n",
    "    l2 = [6, 5, 4]\n",
    "    l2 = [9, 8, 7]"
   ]
  },
  {
   "cell_type": "code",
   "execution_count": 3,
   "metadata": {},
   "outputs": [],
   "source": [
    "# Write your code here\n"
   ]
  },
  {
   "cell_type": "markdown",
   "metadata": {},
   "source": [
    "#### 4: Given a list iterate it and count the occurrence of each element and create a dictionary to show the count of each element"
   ]
  },
  {
   "cell_type": "markdown",
   "metadata": {},
   "source": [
    "    Input: list = [10, 20, 30, 10, 20, 40, 50]\n",
    "    Output : dict = {10: 2, 20: 2, 30: 1, 40: 1, 50: 1}"
   ]
  },
  {
   "cell_type": "code",
   "execution_count": 4,
   "metadata": {},
   "outputs": [],
   "source": [
    "# Write your code here\n"
   ]
  },
  {
   "cell_type": "markdown",
   "metadata": {},
   "source": [
    "#### 5: Given a two list of equal size create a set such that it shows the element from both lists in the pair"
   ]
  },
  {
   "cell_type": "markdown",
   "metadata": {},
   "source": [
    "    Input : \n",
    "    firstList = [1, 2, 3, 4, 5]\n",
    "    secondList = [10, 20, 30, 40, 50]\n",
    "    \n",
    "    Output:\n",
    "    result = {(1, 10), (2, 20), (3, 30), (4, 40), (5, 50)}"
   ]
  },
  {
   "cell_type": "code",
   "execution_count": 5,
   "metadata": {},
   "outputs": [],
   "source": [
    "# Write your code here\n"
   ]
  },
  {
   "cell_type": "markdown",
   "metadata": {},
   "source": [
    "#### 6: Given a following two sets find the intersection and remove those elements from the first set"
   ]
  },
  {
   "cell_type": "markdown",
   "metadata": {},
   "source": [
    "    Input:\n",
    "    firstSet = {10, 30, 40 , 60, 45}\n",
    "    secondSet = {20, 50, 10 , 40, 55}\n",
    "    \n",
    "    Output:\n",
    "    firstSet = {30, 60, 45}"
   ]
  },
  {
   "cell_type": "code",
   "execution_count": 6,
   "metadata": {},
   "outputs": [],
   "source": [
    "# Write your code here\n"
   ]
  },
  {
   "cell_type": "markdown",
   "metadata": {},
   "source": [
    "#### 7: Given two sets, Checks if One Set is Subset or superset of Another Set. if the subset is found delete all elements from that set"
   ]
  },
  {
   "cell_type": "markdown",
   "metadata": {},
   "source": [
    "    Input:\n",
    "    firstSet = {27, 43, 34}\n",
    "    secondSet = {34, 93, 22, 27, 43, 53, 48}\n",
    "    \n",
    "    Output:\n",
    "    First set is sub set of second set\n",
    "    firstSet = {}"
   ]
  },
  {
   "cell_type": "code",
   "execution_count": 7,
   "metadata": {},
   "outputs": [],
   "source": [
    "# Write your code here\n"
   ]
  },
  {
   "cell_type": "markdown",
   "metadata": {},
   "source": [
    "#### 8: Iterate a given list and Check if a given element already exists in a dictionary as a key’s value if not delete it from the list"
   ]
  },
  {
   "cell_type": "markdown",
   "metadata": {},
   "source": [
    "    Input:\n",
    "        rollNumber = [47, 64, 69, 37, 76, 83, 95, 97]\n",
    "        sampleDict ={'Jhon':47, 'Emma':69, 'Kelly':76, 'Jason':97}\n",
    "    \n",
    "    Output:\n",
    "        after removing unwanted elemnts from list [47, 69, 76, 97]"
   ]
  },
  {
   "cell_type": "code",
   "execution_count": 8,
   "metadata": {},
   "outputs": [],
   "source": [
    "# Write your code here\n"
   ]
  },
  {
   "cell_type": "markdown",
   "metadata": {},
   "source": [
    "#### 9: Given a dictionary get all values from the dictionary and add it in a list but don’t add duplicates"
   ]
  },
  {
   "cell_type": "markdown",
   "metadata": {},
   "source": [
    "    Input:\n",
    "        d ={'jan':47, 'feb':52, 'march':47, 'April':44, 'May':52, 'June':53, 'july':54, 'Aug':44, 'Sept':54}\n",
    "    \n",
    "    Output:\n",
    "        [47, 52, 44, 53, 54]"
   ]
  },
  {
   "cell_type": "code",
   "execution_count": 9,
   "metadata": {},
   "outputs": [],
   "source": [
    "# Write your code here\n"
   ]
  },
  {
   "cell_type": "markdown",
   "metadata": {},
   "source": [
    "#### 10: Remove duplicate from a list and create a tuple and find the minimum and maximum number"
   ]
  },
  {
   "cell_type": "markdown",
   "metadata": {},
   "source": [
    "    Input:\n",
    "        sampleList = [87, 45, 41, 65, 94, 41, 99, 94]\n",
    "    \n",
    "    Output:\n",
    "        unique items [87, 45, 41, 65, 99]\n",
    "        tuple (87, 45, 41, 65, 99)\n",
    "        min: 41\n",
    "        max: 99"
   ]
  },
  {
   "cell_type": "code",
   "execution_count": 10,
   "metadata": {},
   "outputs": [],
   "source": [
    "# Write your code here\n"
   ]
  },
  {
   "cell_type": "markdown",
   "metadata": {},
   "source": [
    "#### 11. Write a program which accepts a sequence of comma-separated numbers from console and generate a list and a tuple which contains every integer number.\n",
    "\n",
    "Suppose the following input is supplied to the program:\n",
    "        \n",
    "        34,67,55,33,12,98\n",
    "        Then, the output should be:\n",
    "        [34, 67, 55, 33, 12, 98]\n",
    "        (34, 67, 55, 33, 12, 98)"
   ]
  },
  {
   "cell_type": "code",
   "execution_count": 11,
   "metadata": {},
   "outputs": [],
   "source": [
    "# Write your code here\n"
   ]
  },
  {
   "cell_type": "markdown",
   "metadata": {},
   "source": [
    "#### 12. WAP which can generate a dictionary where the keys are numbers between 1 and 20 (both included) and the values are square of keys, using dictionary comprehension.\n"
   ]
  },
  {
   "cell_type": "code",
   "execution_count": 13,
   "metadata": {},
   "outputs": [],
   "source": [
    "# Write your code here\n"
   ]
  }
 ],
 "metadata": {
  "kernelspec": {
   "display_name": "Python 3",
   "language": "python",
   "name": "python3"
  },
  "language_info": {
   "codemirror_mode": {
    "name": "ipython",
    "version": 3
   },
   "file_extension": ".py",
   "mimetype": "text/x-python",
   "name": "python",
   "nbconvert_exporter": "python",
   "pygments_lexer": "ipython3",
   "version": "3.6.5"
  }
 },
 "nbformat": 4,
 "nbformat_minor": 2
}
