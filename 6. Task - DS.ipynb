{
 "cells": [
  {
   "cell_type": "markdown",
   "metadata": {},
   "source": [
    "#### 1: Given a two list. Create a third list by picking an odd-index element from the first list and even index elements from second."
   ]
  },
  {
   "cell_type": "markdown",
   "metadata": {},
   "source": [
    "    Input:\n",
    "    listOne = [3, 6, 9, 12, 15, 18, 21]\n",
    "    listTwo = [4, 8, 12, 16, 20, 24, 28]\n",
    "    \n",
    "    Output:\n",
    "    [6, 12, 18, 4, 12, 20, 28]"
   ]
  },
  {
   "cell_type": "code",
   "execution_count": 19,
   "metadata": {},
   "outputs": [
    {
     "name": "stdout",
     "output_type": "stream",
     "text": [
      "[6, 12, 18, 4]\n",
      "[6, 12, 18, 4]\n",
      "[6, 12, 18, 4, 12]\n",
      "[6, 12, 18, 4, 12]\n",
      "[6, 12, 18, 4, 12, 20]\n",
      "[6, 12, 18, 4, 12, 20]\n",
      "[6, 12, 18, 4, 12, 20, 28]\n"
     ]
    }
   ],
   "source": [
    "# Write your code here\n",
    "\n",
    "\n",
    "L1=[3,6,9,12,15,18,21]\n",
    "L2=[4,8,12,16,20,24,28]\n",
    "L3=[]\n",
    "count=0\n",
    "for i in L1:\n",
    "    if count%2==1:\n",
    "        L3.append(i)\n",
    "    count +=1\n",
    "    \n",
    "count=0\n",
    "for i in L2:\n",
    "    if count%2==0:\n",
    "        L3.append(i)\n",
    "    count+=1\n",
    "\n",
    "    print(L3)\n",
    "            "
   ]
  },
  {
   "cell_type": "markdown",
   "metadata": {},
   "source": [
    "#### 2: Given an input list removes the element at index 2 and add it to the 4th position and also, at the end of the list"
   ]
  },
  {
   "cell_type": "markdown",
   "metadata": {},
   "source": [
    "    Input: List = [54, 44, 27, 79, 91, 41]\n",
    "    Output: [54, 44, 79, 27, 91, 41, 27]"
   ]
  },
  {
   "cell_type": "code",
   "execution_count": 25,
   "metadata": {},
   "outputs": [
    {
     "data": {
      "text/plain": [
       "[54, 44, 79, 27, 91, 41, 27]"
      ]
     },
     "execution_count": 25,
     "metadata": {},
     "output_type": "execute_result"
    }
   ],
   "source": [
    "# Write your code here\n",
    "\n",
    "L=[54,44,27,79,91,41]\n",
    "L.remove(27)\n",
    "L.insert(3,27)\n",
    "L.append(27)\n",
    "L"
   ]
  },
  {
   "cell_type": "markdown",
   "metadata": {},
   "source": [
    "#### 3: Given a list slice it into a 3 equal chunks and reverse each list"
   ]
  },
  {
   "cell_type": "markdown",
   "metadata": {},
   "source": [
    "    Input:\n",
    "    sampleList = [1, 2, 3, 4, 5, 6, 7, 8, 9]\n",
    "    \n",
    "    Output:\n",
    "    l1 = [3, 2, 1]\n",
    "    l2 = [6, 5, 4]\n",
    "    l2 = [9, 8, 7]"
   ]
  },
  {
   "cell_type": "code",
   "execution_count": 43,
   "metadata": {},
   "outputs": [
    {
     "name": "stdout",
     "output_type": "stream",
     "text": [
      "l1=  [3, 2, 1]\n",
      "l2=  [6, 5, 4]\n",
      "l3=  [9, 8, 7]\n"
     ]
    }
   ],
   "source": [
    "# Write your code here\n",
    "\n",
    "L=[1,2,3,4,5,6,7,8,9]\n",
    "l1=L[:3]\n",
    "l2=L[3:6]\n",
    "l3=L[6:9]\n",
    "\n",
    "print('l1= ',l1[::-1])\n",
    "print('l2= ',l2[::-1])\n",
    "print('l3= ',l3[::-1])\n",
    "\n"
   ]
  },
  {
   "cell_type": "markdown",
   "metadata": {},
   "source": [
    "#### 4: Given a list iterate it and count the occurrence of each element and create a dictionary to show the count of each element"
   ]
  },
  {
   "cell_type": "markdown",
   "metadata": {},
   "source": [
    "    Input: list = [10, 20, 30, 10, 20, 40, 50]\n",
    "    Output : dict = {10: 2, 20: 2, 30: 1, 40: 1, 50: 1}"
   ]
  },
  {
   "cell_type": "code",
   "execution_count": 44,
   "metadata": {},
   "outputs": [
    {
     "name": "stdout",
     "output_type": "stream",
     "text": [
      "{10: 1}\n",
      "{10: 1, 20: 1}\n",
      "{10: 1, 20: 1, 30: 1}\n",
      "{10: 2, 20: 1, 30: 1}\n",
      "{10: 2, 20: 2, 30: 1}\n",
      "{10: 2, 20: 2, 30: 1, 40: 1}\n",
      "{10: 2, 20: 2, 30: 1, 40: 1, 50: 1}\n"
     ]
    }
   ],
   "source": [
    "# Write your code here\n",
    "\n",
    "L=[10,20,30,10,20,40,50]\n",
    "d=dict()\n",
    "for i in L:\n",
    "    d[i]=d.get(i,0) + 1\n",
    "    print(d)"
   ]
  },
  {
   "cell_type": "markdown",
   "metadata": {},
   "source": [
    "#### 5: Given a two list of equal size create a set such that it shows the element from both lists in the pair"
   ]
  },
  {
   "cell_type": "markdown",
   "metadata": {},
   "source": [
    "    Input : \n",
    "    firstList = [1, 2, 3, 4, 5]\n",
    "    secondList = [10, 20, 30, 40, 50]\n",
    "    \n",
    "    Output:\n",
    "    result = {(1, 10), (2, 20), (3, 30), (4, 40), (5, 50)}"
   ]
  },
  {
   "cell_type": "code",
   "execution_count": 5,
   "metadata": {},
   "outputs": [],
   "source": [
    "# Write your code here\n",
    "\n",
    "L1=[1,2,3,4,5]\n",
    "L2=[10,20,30,40,50]\n"
   ]
  },
  {
   "cell_type": "markdown",
   "metadata": {},
   "source": [
    "#### 6: Given a following two sets find the intersection and remove those elements from the first set"
   ]
  },
  {
   "cell_type": "markdown",
   "metadata": {},
   "source": [
    "    Input:\n",
    "    firstSet = {10, 30, 40 , 60, 45}\n",
    "    secondSet = {20, 50, 10 , 40, 55}\n",
    "    \n",
    "    Output:\n",
    "    firstSet = {30, 60, 45}"
   ]
  },
  {
   "cell_type": "code",
   "execution_count": 68,
   "metadata": {},
   "outputs": [
    {
     "name": "stdout",
     "output_type": "stream",
     "text": [
      "{40, 10}\n"
     ]
    },
    {
     "data": {
      "text/plain": [
       "{30, 45, 60}"
      ]
     },
     "execution_count": 68,
     "metadata": {},
     "output_type": "execute_result"
    }
   ],
   "source": [
    "# Write your code here\n",
    "\n",
    "firstSet={10,30,40,60,45}\n",
    "secondSet={20,50,10,40,55}\n",
    "\n",
    "thirdSet=firstSet.intersection(secondSet)\n",
    "\n",
    "print(thirdSet)\n",
    "firstSet.difference(thirdSet)\n",
    "\n"
   ]
  },
  {
   "cell_type": "markdown",
   "metadata": {},
   "source": [
    "#### 7: Given two sets, Checks if One Set is Subset or superset of Another Set. if the subset is found delete all elements from that set"
   ]
  },
  {
   "cell_type": "markdown",
   "metadata": {},
   "source": [
    "    Input:\n",
    "    firstSet = {27, 43, 34}\n",
    "    secondSet = {34, 93, 22, 27, 43, 53, 48}\n",
    "    \n",
    "    Output:\n",
    "    First set is sub set of second set\n",
    "    firstSet = {}"
   ]
  },
  {
   "cell_type": "code",
   "execution_count": 76,
   "metadata": {},
   "outputs": [
    {
     "name": "stdout",
     "output_type": "stream",
     "text": [
      "First set is sub set of second set\n",
      "firstSet= {}\n"
     ]
    }
   ],
   "source": [
    "# Write your code here\n",
    "\n",
    "firstSet={27,43, 34}\n",
    "secondSet={34,93,22,27,43,53,48}\n",
    "\n",
    "if (firstSet.issubset(secondSet)):\n",
    "    print('First set is sub set of second set')\n",
    "    firstSet.clear()\n",
    "    print('firstSet= {}')\n",
    "else:\n",
    "    print(False)\n",
    "    \n",
    "\n"
   ]
  },
  {
   "cell_type": "markdown",
   "metadata": {},
   "source": [
    "#### 8: Iterate a given list and Check if a given element already exists in a dictionary as a key’s value if not delete it from the list"
   ]
  },
  {
   "cell_type": "markdown",
   "metadata": {},
   "source": [
    "    Input:\n",
    "        rollNumber = [47, 64, 69, 37, 76, 83, 95, 97]\n",
    "        sampleDict ={'Jhon':47, 'Emma':69, 'Kelly':76, 'Jason':97}\n",
    "    \n",
    "    Output:\n",
    "        after removing unwanted elemnts from list [47, 69, 76, 97]"
   ]
  },
  {
   "cell_type": "code",
   "execution_count": 83,
   "metadata": {},
   "outputs": [],
   "source": [
    "# Write your code here\n",
    "\n",
    "rollNumber=[47,64,69,37,76,83,95,97]\n",
    "sampleDict={'John':47,'Emma':69,'Kelly':76,'Jason':97}\n",
    "L=[]\n",
    "for i in rollNumber:\n",
    "    if i in sampleDict:\n",
    "        L.append(i)\n",
    "        print(L)\n",
    "        \n",
    "        \n",
    "        \n"
   ]
  },
  {
   "cell_type": "markdown",
   "metadata": {},
   "source": [
    "#### 9: Given a dictionary get all values from the dictionary and add it in a list but don’t add duplicates"
   ]
  },
  {
   "cell_type": "markdown",
   "metadata": {},
   "source": [
    "    Input:\n",
    "        d ={'jan':47, 'feb':52, 'march':47, 'April':44, 'May':52, 'June':53, 'july':54, 'Aug':44, 'Sept':54}\n",
    "    \n",
    "    Output:\n",
    "        [47, 52, 44, 53, 54]"
   ]
  },
  {
   "cell_type": "code",
   "execution_count": 87,
   "metadata": {},
   "outputs": [
    {
     "name": "stdout",
     "output_type": "stream",
     "text": [
      "{'jan': 47, 'feb': 52, 'april': 44, 'june': 53, 'july': 54}\n",
      "dict_values([47, 52, 44, 53, 54])\n"
     ]
    }
   ],
   "source": [
    "# Write your code here\n",
    "\n",
    "d={'jan':47,'feb':52,'march':47,'april':44,'may':52,'june':53,'july':54,'aug':44,'sept':54}\n",
    "d1={}\n",
    "\n",
    "for key,value in d.items():\n",
    "    if value not in d1.values():\n",
    "        d1[key]=value\n",
    "        \n",
    "\n",
    "print(d1)\n",
    "print(d1.values())    \n"
   ]
  },
  {
   "cell_type": "markdown",
   "metadata": {},
   "source": [
    "#### 10: Remove duplicate from a list and create a tuple and find the minimum and maximum number"
   ]
  },
  {
   "cell_type": "markdown",
   "metadata": {},
   "source": [
    "    Input:\n",
    "        sampleList = [87, 45, 41, 65, 94, 41, 99, 94]\n",
    "    \n",
    "    Output:\n",
    "        unique items [87, 45, 41, 65, 99]\n",
    "        tuple (87, 45, 41, 65, 99)\n",
    "        min: 41\n",
    "        max: 99"
   ]
  },
  {
   "cell_type": "code",
   "execution_count": 110,
   "metadata": {},
   "outputs": [
    {
     "name": "stdout",
     "output_type": "stream",
     "text": [
      "unique_items:  [87, 45, 41, 65, 94, 99]\n",
      "max:  99\n",
      "min:  41\n"
     ]
    }
   ],
   "source": [
    "# Write your code here\n",
    "\n",
    "sample=[87,45,41,65,94,41,99,94]\n",
    "\n",
    "unique_items=[]\n",
    "for i in sample:\n",
    "    if i not in unique_items:\n",
    "        unique_items.append(i)\n",
    "        \n",
    "print('unique_items: ',unique_items)\n",
    "\n",
    "\n",
    "max_no=max(sample)\n",
    "min_no=min(sample)\n",
    "print('max: ',max_no)\n",
    "print('min: ',min_no)\n"
   ]
  },
  {
   "cell_type": "markdown",
   "metadata": {},
   "source": [
    "#### 11. Write a program which accepts a sequence of comma-separated numbers from console and generate a list and a tuple which contains every integer number.\n",
    "\n",
    "Suppose the following input is supplied to the program:\n",
    "        \n",
    "        34,67,55,33,12,98\n",
    "        Then, the output should be:\n",
    "        [34, 67, 55, 33, 12, 98]\n",
    "        (34, 67, 55, 33, 12, 98)"
   ]
  },
  {
   "cell_type": "code",
   "execution_count": 123,
   "metadata": {},
   "outputs": [
    {
     "name": "stdout",
     "output_type": "stream",
     "text": [
      "Enter a sequence of numbers 12,23,45,56\n",
      "['12', '23', '45', '56']\n",
      "['12', '23', '45', '56']\n"
     ]
    },
    {
     "ename": "TypeError",
     "evalue": "'list' object is not callable",
     "output_type": "error",
     "traceback": [
      "\u001b[1;31m---------------------------------------------------------------------------\u001b[0m",
      "\u001b[1;31mTypeError\u001b[0m                                 Traceback (most recent call last)",
      "\u001b[1;32m<ipython-input-123-ba30412d1ebb>\u001b[0m in \u001b[0;36m<module>\u001b[1;34m\u001b[0m\n\u001b[0;32m      8\u001b[0m     \u001b[0mL\u001b[0m\u001b[1;33m.\u001b[0m\u001b[0mappend\u001b[0m\u001b[1;33m(\u001b[0m\u001b[0mi\u001b[0m\u001b[1;33m)\u001b[0m\u001b[1;33m\u001b[0m\u001b[1;33m\u001b[0m\u001b[0m\n\u001b[0;32m      9\u001b[0m \u001b[0mprint\u001b[0m\u001b[1;33m(\u001b[0m\u001b[0mL\u001b[0m\u001b[1;33m)\u001b[0m\u001b[1;33m\u001b[0m\u001b[1;33m\u001b[0m\u001b[0m\n\u001b[1;32m---> 10\u001b[1;33m \u001b[0mT\u001b[0m\u001b[1;33m=\u001b[0m\u001b[0mtuple\u001b[0m\u001b[1;33m(\u001b[0m\u001b[0mL\u001b[0m\u001b[1;33m)\u001b[0m\u001b[1;33m\u001b[0m\u001b[1;33m\u001b[0m\u001b[0m\n\u001b[0m\u001b[0;32m     11\u001b[0m \u001b[0mprint\u001b[0m\u001b[1;33m(\u001b[0m\u001b[0mT\u001b[0m\u001b[1;33m)\u001b[0m\u001b[1;33m\u001b[0m\u001b[1;33m\u001b[0m\u001b[0m\n",
      "\u001b[1;31mTypeError\u001b[0m: 'list' object is not callable"
     ]
    }
   ],
   "source": [
    "# Write your code here\n",
    "\n",
    "str_n=str(input('Enter a sequence of numbers '))\n",
    "l=str_n.split(\",\")\n",
    "print(l)\n",
    "L=[]\n",
    "for i in l:\n",
    "    L.append(i)\n",
    "print(L)\n",
    "T=tuple(L)\n",
    "print(T)\n"
   ]
  },
  {
   "cell_type": "markdown",
   "metadata": {},
   "source": [
    "#### 12. WAP which can generate a dictionary where the keys are numbers between 1 and 20 (both included) and the values are square of keys, using dictionary comprehension.\n"
   ]
  },
  {
   "cell_type": "code",
   "execution_count": 124,
   "metadata": {},
   "outputs": [
    {
     "name": "stdout",
     "output_type": "stream",
     "text": [
      "{1: 1, 2: 4, 3: 9, 4: 16, 5: 25, 6: 36, 7: 49, 8: 64, 9: 81, 10: 100, 11: 121, 12: 144, 13: 169, 14: 196, 15: 225, 16: 256, 17: 289, 18: 324, 19: 361}\n"
     ]
    }
   ],
   "source": [
    "# Write your code here\n",
    "\n",
    "d=dict()\n",
    "for i in range(1,20):\n",
    "    d[i]=i**2\n",
    "    \n",
    "print(d)"
   ]
  },
  {
   "cell_type": "code",
   "execution_count": null,
   "metadata": {},
   "outputs": [],
   "source": []
  }
 ],
 "metadata": {
  "kernelspec": {
   "display_name": "Python 3",
   "language": "python",
   "name": "python3"
  },
  "language_info": {
   "codemirror_mode": {
    "name": "ipython",
    "version": 3
   },
   "file_extension": ".py",
   "mimetype": "text/x-python",
   "name": "python",
   "nbconvert_exporter": "python",
   "pygments_lexer": "ipython3",
   "version": "3.7.4"
  },
  "toc": {
   "base_numbering": 1,
   "nav_menu": {},
   "number_sections": false,
   "sideBar": false,
   "skip_h1_title": false,
   "title_cell": "Table of Contents",
   "title_sidebar": "Contents",
   "toc_cell": false,
   "toc_position": {},
   "toc_section_display": false,
   "toc_window_display": false
  }
 },
 "nbformat": 4,
 "nbformat_minor": 2
}
