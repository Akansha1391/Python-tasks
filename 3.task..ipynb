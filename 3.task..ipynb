{
 "cells": [
  {
   "cell_type": "code",
   "execution_count": 6,
   "metadata": {},
   "outputs": [
    {
     "name": "stdout",
     "output_type": "stream",
     "text": [
      "Enter a character: A\n",
      "A is a vowel\n"
     ]
    }
   ],
   "source": [
    "#### WAP to check if a given character is vowel or not\n",
    "\n",
    "ch=input(\"Enter a character: \")\n",
    "if(ch=='a'or ch=='A' or ch=='e'or ch=='i'or ch=='o' or ch=='u'or ch=='E' or ch=='I' or ch=='O' or ch=='U'):\n",
    "    print(ch,'is a vowel')\n",
    "else:\n",
    "    print(ch,'is not a vowel')"
   ]
  },
  {
   "cell_type": "code",
   "execution_count": 7,
   "metadata": {},
   "outputs": [
    {
     "name": "stdout",
     "output_type": "stream",
     "text": [
      "Enter a number: 4\n",
      "The number is less than 5.\n",
      "The square of the number is 16\n"
     ]
    }
   ],
   "source": [
    "##WAP TO CHECK IF A NUMBER IS LESS THAN 5, IF YES PRINT ITS SQUARE\n",
    "\n",
    "\n",
    "x=int(input(\"Enter a number: \"))\n",
    "if(x<5):\n",
    "    sqr=x**2\n",
    "    print('The number is less than 5.')\n",
    "    print('The square of the number is',sqr)\n",
    "else:\n",
    "    print('The number is greater than 5.')"
   ]
  },
  {
   "cell_type": "code",
   "execution_count": 10,
   "metadata": {},
   "outputs": [
    {
     "name": "stdout",
     "output_type": "stream",
     "text": [
      "Enter a number: 200\n",
      "200 is divisible by 10\n"
     ]
    }
   ],
   "source": [
    "## WAP to check if a number is divisible by 10\n",
    "\n",
    "n=int(input(\"Enter a number: \"))\n",
    "if (n%10==0):\n",
    "    print(n,'is divisible by 10')\n",
    "else:\n",
    "    print(n,'is not dvisible by 10')"
   ]
  },
  {
   "cell_type": "code",
   "execution_count": 11,
   "metadata": {},
   "outputs": [
    {
     "name": "stdout",
     "output_type": "stream",
     "text": [
      "Enter an character: A\n",
      "A is an upper case alphabet\n"
     ]
    }
   ],
   "source": [
    "## WAP to check if given character is uppercase or lower case\n",
    "\n",
    "C=input(\"Enter an character: \")\n",
    "if (C.islower()):\n",
    "    print(C,\"is lower case alphabet\")\n",
    "elif(C.isupper()):\n",
    "    print(C,'is an upper case alphabet')\n",
    "else:\n",
    "    print(C,'is not an alphabet') "
   ]
  },
  {
   "cell_type": "code",
   "execution_count": 16,
   "metadata": {},
   "outputs": [
    {
     "name": "stdout",
     "output_type": "stream",
     "text": [
      "Enter a character: 99\n",
      "99 is a digit\n"
     ]
    }
   ],
   "source": [
    "## WAP TO CHECK IF A GIVEN CHARACTER IS DIGIT OR NOT\n",
    "\n",
    "z=input('Enter a character: ')\n",
    "if (z.isdigit()):\n",
    "    print(z,'is a digit')\n",
    "else:\n",
    "    print(z,'is not a digit')"
   ]
  },
  {
   "cell_type": "code",
   "execution_count": 21,
   "metadata": {},
   "outputs": [
    {
     "name": "stdout",
     "output_type": "stream",
     "text": [
      "Enter the first number: 2\n",
      "Enter the second number: 6\n",
      "Enter the third number: 77\n",
      "Enter the fourth number: 8.9\n",
      "77.0 is the greatest number\n"
     ]
    }
   ],
   "source": [
    "##WAP to print the greatest number between the given 4  number\n",
    "\n",
    "n1=float(input('Enter the first number: '))\n",
    "n2=float(input('Enter the second number: '))\n",
    "n3=float(input('Enter the third number: '))\n",
    "n4=float(input('Enter the fourth number: '))\n",
    "if ((n1>=n2) and (n1>=n3) and (n1>=n4)):\n",
    "    print(n1,'is the greatest number')\n",
    "elif((n2>=n1)and (n2>=n3)and(n2>=n4)):\n",
    "    print(n2,'is the greatest number')\n",
    "elif((n3>=n1) and (n3>=n2) and (n3>=n4)):\n",
    "    print(n3,'is the greatest number')\n",
    "else:\n",
    "    print(n4,'is the greatest number')"
   ]
  },
  {
   "cell_type": "markdown",
   "metadata": {},
   "source": [
    "# LOOPS"
   ]
  },
  {
   "cell_type": "code",
   "execution_count": 28,
   "metadata": {},
   "outputs": [
    {
     "name": "stdout",
     "output_type": "stream",
     "text": [
      "Enter a number: 7866\n",
      "The number of digits in the number are:  4\n"
     ]
    }
   ],
   "source": [
    "## WAP to count the number of digits in any number\n",
    "\n",
    "n=int(input(\"Enter a number: \"))\n",
    "count=0\n",
    "while (n>0):\n",
    "    count=count+1\n",
    "    n=n//10\n",
    "print(\"The number of digits in the number are: \",count)"
   ]
  },
  {
   "cell_type": "code",
   "execution_count": 37,
   "metadata": {},
   "outputs": [
    {
     "name": "stdout",
     "output_type": "stream",
     "text": [
      "Enter a number: 555\n",
      "The sum of the number is :  15\n",
      " Product of all digits in the number is:  125\n"
     ]
    }
   ],
   "source": [
    "## WAP to print sum and products of digits of any number\n",
    "\n",
    "n=int(input(\"Enter a number: \"))\n",
    "sum=0\n",
    "product=1\n",
    "while(n!=0):\n",
    "    rem=n%10\n",
    "    sum=sum+rem\n",
    "    product=product*(n%10)\n",
    "    n=int(n/10)\n",
    "print(\"The sum of the number is : \",sum)\n",
    "print(\" Product of all digits in the number is: \",product)\n",
    "\n",
    "\n",
    "    "
   ]
  },
  {
   "cell_type": "code",
   "execution_count": 43,
   "metadata": {},
   "outputs": [
    {
     "name": "stdout",
     "output_type": "stream",
     "text": [
      "Enter a number: 123456\n",
      "The reverse of the number is:  654321\n"
     ]
    }
   ],
   "source": [
    "## wap to read a number and print it in reverse\n",
    "\n",
    "x=int(input(\"Enter a number: \"))\n",
    "reverse=0\n",
    "while(x>0):\n",
    "    rem=x%10\n",
    "    reverse=(reverse*10)+rem\n",
    "    x=x//10\n",
    "print('The reverse of the number is: ',reverse)\n",
    "\n"
   ]
  },
  {
   "cell_type": "code",
   "execution_count": 44,
   "metadata": {},
   "outputs": [
    {
     "name": "stdout",
     "output_type": "stream",
     "text": [
      "Enter a number: 8\n",
      "8 7 6 5 4 3 2 1 "
     ]
    }
   ],
   "source": [
    "## WAP to print natural numbers in reverse starting from the given number\n",
    "\n",
    "n=int(input(\"Enter a number: \"))\n",
    "for i in range(n,0,-1):\n",
    "    print(i,end=\" \")"
   ]
  },
  {
   "cell_type": "code",
   "execution_count": 47,
   "metadata": {},
   "outputs": [
    {
     "name": "stdout",
     "output_type": "stream",
     "text": [
      "Enter a number: 8\n",
      "8 x 1 = 8\n",
      "8 x 2 = 16\n",
      "8 x 3 = 24\n",
      "8 x 4 = 32\n",
      "8 x 5 = 40\n",
      "8 x 6 = 48\n",
      "8 x 7 = 56\n",
      "8 x 8 = 64\n",
      "8 x 9 = 72\n",
      "8 x 10 = 80\n"
     ]
    }
   ],
   "source": [
    "## Wap to print multiplication table of a given number\n",
    "\n",
    "n=int(input(\"Enter a number: \"))\n",
    "for i in range(1,11):\n",
    "    print(n,\"x\", i,\"=\",n*i)"
   ]
  },
  {
   "cell_type": "code",
   "execution_count": 57,
   "metadata": {},
   "outputs": [
    {
     "name": "stdout",
     "output_type": "stream",
     "text": [
      "Enter a number: 153\n",
      "153  is an armstrong number\n"
     ]
    }
   ],
   "source": [
    "## WAP to check if the given number is armstrong or not\n",
    "\n",
    "n=int(input('Enter a number: '))\n",
    "sum=0\n",
    "temp=n\n",
    "while(temp>0):\n",
    "    rem=temp%10\n",
    "    sum+=rem ** 3\n",
    "    temp//=10\n",
    "    \n",
    "if(n==sum):\n",
    "    print(n,' is an armstrong number')\n",
    "else:\n",
    "    print(n,'is not an armstrong number')"
   ]
  },
  {
   "cell_type": "code",
   "execution_count": 63,
   "metadata": {},
   "outputs": [
    {
     "name": "stdout",
     "output_type": "stream",
     "text": [
      "Enter a number: 5\n",
      "The factorial of 5 is 120\n"
     ]
    }
   ],
   "source": [
    "## WAP to compute factorial of a number\n",
    "\n",
    "n=int(input('Enter a number: '))\n",
    "factorial=1\n",
    "if(n<0):\n",
    "    print('The factorial of the given number does no exist')\n",
    "elif(n==0):\n",
    "    print('The factorial of 0 is 1')\n",
    "else:\n",
    "    for i in range(1,n+1):\n",
    "        factorial=factorial*i\n",
    "    print('The factorial of',n ,'is',factorial)"
   ]
  },
  {
   "cell_type": "code",
   "execution_count": 1,
   "metadata": {},
   "outputs": [
    {
     "name": "stdout",
     "output_type": "stream",
     "text": [
      "Equation: ax^2 + bx + c\n",
      "Enter a: 1\n",
      "Enter b: 5\n",
      "Enter c: 6\n",
      "The roots of the equation are:  (-3+0j) (-2+0j)\n"
     ]
    }
   ],
   "source": [
    "## WAP to find roots of quadratic equation\n",
    "\n",
    "import cmath\n",
    "print(\"Equation: ax^2 + bx + c\")\n",
    "a=int(input('Enter a: '))\n",
    "b=int(input('Enter b: '))\n",
    "c=int(input('Enter c: '))\n",
    "\n",
    "d=(b**2)-(4*a*c)\n",
    "sol1=(-b-cmath.sqrt(d))/(2*a)\n",
    "sol2=(-b+cmath.sqrt(d))/(2*a)\n",
    "\n",
    "\n",
    "print(\"The roots of the equation are: \",sol1,sol2)"
   ]
  },
  {
   "cell_type": "code",
   "execution_count": 2,
   "metadata": {},
   "outputs": [
    {
     "name": "stdout",
     "output_type": "stream",
     "text": [
      "Enter a number: 6\n",
      "The number is a perfect number!\n"
     ]
    }
   ],
   "source": [
    "## wap to check if a given number is perfect number\n",
    "\n",
    "n=int(input('Enter a number: '))\n",
    "sum=0\n",
    "for i in range(1,n):\n",
    "    if (n%i==0):\n",
    "        sum=sum+i\n",
    "if (sum==n):\n",
    "    print('The number is a perfect number!')\n",
    "else:\n",
    "    print('The number is not a perfect number!')"
   ]
  },
  {
   "cell_type": "code",
   "execution_count": null,
   "metadata": {},
   "outputs": [],
   "source": []
  }
 ],
 "metadata": {
  "kernelspec": {
   "display_name": "Python 3",
   "language": "python",
   "name": "python3"
  },
  "language_info": {
   "codemirror_mode": {
    "name": "ipython",
    "version": 3
   },
   "file_extension": ".py",
   "mimetype": "text/x-python",
   "name": "python",
   "nbconvert_exporter": "python",
   "pygments_lexer": "ipython3",
   "version": "3.7.4"
  },
  "toc": {
   "base_numbering": 1,
   "nav_menu": {},
   "number_sections": false,
   "sideBar": false,
   "skip_h1_title": false,
   "title_cell": "Table of Contents",
   "title_sidebar": "Contents",
   "toc_cell": false,
   "toc_position": {},
   "toc_section_display": false,
   "toc_window_display": false
  }
 },
 "nbformat": 4,
 "nbformat_minor": 2
}
